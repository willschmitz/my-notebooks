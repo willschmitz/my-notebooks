{
  "nbformat": 4,
  "nbformat_minor": 0,
  "metadata": {
    "colab": {
      "name": "My First Notebook ",
      "provenance": [],
      "authorship_tag": "ABX9TyOWt8j8OUtFO7SfAS7dCYH+",
      "include_colab_link": true
    },
    "kernelspec": {
      "name": "python3",
      "display_name": "Python 3"
    },
    "language_info": {
      "name": "python"
    }
  },
  "cells": [
    {
      "cell_type": "markdown",
      "metadata": {
        "id": "view-in-github",
        "colab_type": "text"
      },
      "source": [
        "<a href=\"https://colab.research.google.com/github/willschmitz/my-notebooks/blob/main/My_First_Notebook.ipynb\" target=\"_parent\"><img src=\"https://colab.research.google.com/assets/colab-badge.svg\" alt=\"Open In Colab\"/></a>"
      ]
    },
    {
      "cell_type": "code",
      "metadata": {
        "colab": {
          "base_uri": "https://localhost:8080/"
        },
        "id": "p4UkOl-nX4F8",
        "outputId": "db60e8eb-f6b7-4e72-a298-f4f6b683059d"
      },
      "source": [
        "#my first notebook \n",
        "print (\"Hi professor. There is a high chance I will be at many office hours this semester\")\n",
        "\n",
        "\n"
      ],
      "execution_count": 26,
      "outputs": [
        {
          "output_type": "stream",
          "name": "stdout",
          "text": [
            "Hi professor. There is a high chance I will be at many office hours this semester\n"
          ]
        }
      ]
    },
    {
      "cell_type": "code",
      "metadata": {
        "colab": {
          "base_uri": "https://localhost:8080/"
        },
        "id": "JNBhQEc0aXAP",
        "outputId": "ddffb7e4-6ad9-4b95-8452-fb63f1a43f7a"
      },
      "source": [
        "#this is my first time with python\n",
        "print( \"hello georgetown\" )\n",
        "x=2+2 \n",
        "print(x)"
      ],
      "execution_count": 17,
      "outputs": [
        {
          "output_type": "stream",
          "name": "stdout",
          "text": [
            "hello georgetown\n",
            "4\n"
          ]
        }
      ]
    },
    {
      "cell_type": "markdown",
      "metadata": {
        "id": "w6Iq2oCKZy3B"
      },
      "source": [
        "\n",
        " I am *just trying* to figure this  **all** out\n",
        " *Coding **is new** to me but I think I am slowly starting to understand*\n",
        " 1. How often do you use lists in coding?\n",
        " 2. Is it for situations where you have variables?\n",
        " \n",
        "\n",
        "```\n",
        "# This is formatted as code\n",
        "```\n",
        "\n",
        "\n",
        "> Indented block\n",
        "\n"
      ]
    }
  ]
}