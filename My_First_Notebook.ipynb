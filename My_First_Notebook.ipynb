{
  "nbformat": 4,
  "nbformat_minor": 0,
  "metadata": {
    "colab": {
      "name": "My First Notebook ",
      "provenance": [],
      "collapsed_sections": [],
      "authorship_tag": "ABX9TyMc6QSaLvlR3+JK8954cR6l",
      "include_colab_link": true
    },
    "kernelspec": {
      "name": "python3",
      "display_name": "Python 3"
    },
    "language_info": {
      "name": "python"
    }
  },
  "cells": [
    {
      "cell_type": "markdown",
      "metadata": {
        "id": "view-in-github",
        "colab_type": "text"
      },
      "source": [
        "<a href=\"https://colab.research.google.com/github/willschmitz/my-notebooks/blob/main/My_First_Notebook.ipynb\" target=\"_parent\"><img src=\"https://colab.research.google.com/assets/colab-badge.svg\" alt=\"Open In Colab\"/></a>"
      ]
    },
    {
      "cell_type": "code",
      "metadata": {
        "colab": {
          "base_uri": "https://localhost:8080/"
        },
        "id": "p4UkOl-nX4F8",
        "outputId": "db5b448f-0d66-41ba-e82b-5574c2c70f0f"
      },
      "source": [
        "#my first notebook \n",
        "print (\"Hi professor. There is a high chance I will be at many office hours this semester\")\n",
        "print (\"I did this as homework but I guess we are doing it in class\")\n",
        "\n"
      ],
      "execution_count": 2,
      "outputs": [
        {
          "output_type": "stream",
          "name": "stdout",
          "text": [
            "Hi professor. There is a high chance I will be at many office hours this semester\n",
            "I did this as homework but I guess we are doing it in class\n"
          ]
        }
      ]
    },
    {
      "cell_type": "code",
      "metadata": {
        "colab": {
          "base_uri": "https://localhost:8080/"
        },
        "id": "JNBhQEc0aXAP",
        "outputId": "ddffb7e4-6ad9-4b95-8452-fb63f1a43f7a"
      },
      "source": [
        "#this is my first time with python\n",
        "print( \"hello georgetown\" )\n",
        "x=2+2 \n",
        "print(x)"
      ],
      "execution_count": null,
      "outputs": [
        {
          "output_type": "stream",
          "name": "stdout",
          "text": [
            "hello georgetown\n",
            "4\n"
          ]
        }
      ]
    },
    {
      "cell_type": "markdown",
      "metadata": {
        "id": "w6Iq2oCKZy3B"
      },
      "source": [
        "\n",
        " I am *just trying* to figure this  **all** out\n",
        " *Coding **is new** to me but I think I am slowly starting to understand*\n",
        " 1. How often do you use lists in coding?\n",
        " 2. Is it for situations where you have variables?\n",
        " \n",
        "\n",
        "```\n",
        "# This is formatted as code\n",
        "```\n",
        "\n",
        "\n",
        "> Indented block\n",
        "\n"
      ]
    }
  ]
}